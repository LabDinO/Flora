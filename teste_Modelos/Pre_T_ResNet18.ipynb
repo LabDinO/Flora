{
 "cells": [
  {
   "cell_type": "code",
   "execution_count": null,
   "metadata": {},
   "outputs": [],
   "source": [
    "#Vamos começar uma rotina base utilizando ResNet\n",
    "#Aplicando TRANSFERLEARNING USANDO RESNET-18\n",
    "#Existem diferentes instancias de ResNet que variam em complexidade. Indo de 18 camadas até 152 camadas (Uma rede extremamente grande)\n"
   ]
  },
  {
   "cell_type": "code",
   "execution_count": null,
   "metadata": {},
   "outputs": [],
   "source": [
    "#Nesse teste vamos importar uma rede residual ResNet 18 pré treinada\n",
    "#Vamos testar a performance de classificação desta rede utilizando o dataset STL 10\n",
    "#Esse conjunto de dados a rede pré treinada nunca viu\n",
    "#ResNet - 18 é treinada com um conjunto de dados chamado ImageNet\n",
    "#Que consiste em fotos de muitas coisas "
   ]
  },
  {
   "cell_type": "code",
   "execution_count": null,
   "metadata": {},
   "outputs": [],
   "source": [
    "#Passos\n",
    "#1 - Import the image data\n",
    "#2- Donwload a pretrain resnet18\n",
    "#3 - Freeze the model (?) - It is only going to train the final layer of the model\n",
    "#4 - Replace the final layer\n",
    "#5-Fine-tune the only output layer"
   ]
  },
  {
   "cell_type": "code",
   "execution_count": null,
   "metadata": {},
   "outputs": [],
   "source": []
  }
 ],
 "metadata": {
  "language_info": {
   "name": "python"
  }
 },
 "nbformat": 4,
 "nbformat_minor": 2
}
