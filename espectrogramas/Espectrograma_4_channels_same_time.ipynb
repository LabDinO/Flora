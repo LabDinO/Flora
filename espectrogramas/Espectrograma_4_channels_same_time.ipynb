{
 "cells": [
  {
   "cell_type": "code",
   "execution_count": 5,
   "metadata": {},
   "outputs": [],
   "source": [
    "#Packages\n",
    "import wave\n",
    "import numpy as np\n",
    "import os\n",
    "import librosa\n",
    "import librosa.display\n",
    "from pydub import AudioSegment\n",
    "import IPython.display as ipd\n",
    "from IPython.display import Audio, display\n",
    "import numpy as np\n",
    "import matplotlib.pyplot as plt\n",
    "import pandas as pd\n",
    "import matplotlib.pylab as plt\n",
    "import seaborn as sns\n",
    "import csv\n",
    "import math"
   ]
  },
  {
   "cell_type": "code",
   "execution_count": 10,
   "metadata": {},
   "outputs": [],
   "source": [
    "def plot_spectrogram(Y, sr, hop_length, i, axs, y_axis=\"linear\", title=\"Spectrogram\"):\n",
    "    # (400/80, 320/80), dpi=80  TESTE COM DPI PARA DELIMITAÇÃO DE PIXELS\n",
    "    dpi = 100  # You can adjust this value based on your needs\n",
    "    width, height = 224 / dpi, 224 / dpi\n",
    "    ax = axs[i // 2, i % 2]  # Calculate the position in the subplot grid\n",
    "    ax.figure.set_size_inches(width, height)  # Corrected line\n",
    "    ax.axis('off')\n",
    "    ax.margins(0, 0)\n",
    "    ax.set_ylim(10000, 48000)  # Limiting the low frequency\n",
    "\n",
    "    # Set the desired frequency range\n",
    "    fmin = 3000  # 3kHz\n",
    "    fmax = 144000  # 144kHz\n",
    "\n",
    "    specshow_obj = librosa.display.specshow(Y[i, :, :],\n",
    "                                            sr=sr,\n",
    "                                            hop_length=hop_length,\n",
    "                                            x_axis=\"time\",\n",
    "                                            y_axis=y_axis,\n",
    "                                            cmap='jet',\n",
    "                                            fmin=fmin,\n",
    "                                            fmax=fmax,\n",
    "                                            ax=ax)\n",
    "    \n",
    "    specshow_obj.set_clim(-60, 10)  # Set color limits for the individual subplot\n",
    "    ax.set_xticks([])  # Remove x-axis ticks\n",
    "    ax.set_yticks([])  # Remove y-axis ticks\n",
    "    #ax.set_title(title)"
   ]
  },
  {
   "cell_type": "code",
   "execution_count": 13,
   "metadata": {},
   "outputs": [],
   "source": [
    "file = test_file.loc[(test_file['filename'] == 'PAM_MF_20181228_090000_000')]\n",
    "file_raw = f'D:/AUDIOS/test/PAM_MF_20181228_090000_000.wav'\n",
    "audio_data, sample_rate = librosa.load(file_raw, sr=None, mono=False)"
   ]
  },
  {
   "cell_type": "code",
   "execution_count": 14,
   "metadata": {},
   "outputs": [],
   "source": [
    "test_file =  pd.read_csv('C:/Users/flora/OneDrive/Documentos/MESTRADO_UFSC/rotinas/python/labels_DeepVoice/annotation_test_clicks.csv')"
   ]
  },
  {
   "cell_type": "code",
   "execution_count": 19,
   "metadata": {},
   "outputs": [],
   "source": [
    "#Dando um loc no csv que tem as infos de negativo\n",
    "ch = file.loc[(file['label'] == 0)]\n",
    "#Usando só o que vamos precisar (Os canais, os audios e os labels são iguais)\n",
    "ch = ch[['begin_time','end_time','call_length','filename']]  \n",
    "#Agora eu tenho uma lista com os dados de cada call sem estar separado por canal. \n",
    "df = ch.groupby(['begin_time',]).first().reset_index() \n",
    "\n",
    "#Agora vamos começar a recortar\n",
    "#RETIRAR ESSA LINHA ->  df = ch.loc[(file['channel'] == x +1)] #Pegando cada channel ( é x+1 porque o channel 1 tem indice 0)\n",
    "for i in  range (len(df)):  #indo linha por linha em um canal x onde o label é zero (len(df)) -> qtd linhas do canal x+1 que o label é zero\n",
    "        if df['call_length'].iloc[i] < 2 and i != len(df) - 1: #Se esse intervalo sem cliques for menor que dois segundo e o contador i não for o último índice de df, vá para a próxima linha não analisa essa sessão e vai pra proxima linha\n",
    "             i = i+1\n",
    "        t_start = df['begin_time'].iloc[i] # begin time i\n",
    "        t_stop = df['end_time'].iloc[i] # end time i\n",
    "        t_start = math.ceil(t_start)  # arredonda t_start pra cima (EVITA PEGAR O RESTO DO CLICK ANTERIOR)\n",
    "        #Agora temos que ver se o tempo entre t_start e t_stop é par\n",
    "        t = t_stop - t_start\n",
    "        n = int(t // 2)  #n é o número de espectrogramas\n",
    "        if n == 0: #Para ajeitar calls menores que 2 segundos\n",
    "            n = 1    \n",
    "        for j in range (n):\n",
    "            t_stop = t_start + 2  #atualiza t_stop pra pegar o espectrograma de tamanho 2 segundos\n",
    "            audio_clip = audio_data[:][int(t_start * sr):int(t_stop * sr)]\n",
    "            #Agora a gente pega e recorta os espectrogramas \n",
    "            S_ch_raw1 = librosa.stft(audio_clip, n_fft=FRAME_SIZE, hop_length=HOP_SIZE)\n",
    "            Y_scale = np.abs(S_ch_raw1) ** 2\n",
    "            Y = librosa.power_to_db(Y_scale)\n",
    "            # Create a 2x2 subplot\n",
    "            fig, axs = plt.subplots(2, 2, figsize=(10, 8))\n",
    "            # Plot spectrograms in each subplot\n",
    "            for i in range(4):\n",
    "                plot_spectrogram(Y, sr, HOP_SIZE, i, axs, title=f\"Spectrogram {i + 1}\")\n",
    "            # Remove blank spaces around the outer borders\n",
    "                plt.subplots_adjust(wspace=0, hspace=0)\n",
    "                plt.margins(0, 0)\n",
    "            # Save the figure without extra white space\n",
    "                output_folder = 'D:/IMAGES_CNN/greyscale_4channels/test/negative'\n",
    "                # Salve a figura no formato desejado (por exemplo, PNG)\n",
    "                output_path = os.path.join(output_folder, f'Img_Neg_Test_line_{i+1}_spec_{j+1}_{ch[\"filename\"].iloc[i]}_{df[\"begin_time\"].iloc[i]}_{df[\"end_time\"].iloc[i]}.png')\n",
    "                plt.savefig(output_path,bbox_inches='tight', pad_inches=0)\n",
    "\n",
    "            # Show the subplots\n",
    "            plt.show()\n",
    "            t_start = t_start + 2  #vai passando pro proximo espectrograma até dar n, porque n é a quantidade de espectrogramas que tem no intervalo anotado no csv\n",
    "\n"
   ]
  },
  {
   "cell_type": "code",
   "execution_count": 17,
   "metadata": {},
   "outputs": [],
   "source": [
    "negative_images(file, file_raw, audio_data, sample_rate)"
   ]
  },
  {
   "cell_type": "code",
   "execution_count": null,
   "metadata": {},
   "outputs": [],
   "source": []
  }
 ],
 "metadata": {
  "kernelspec": {
   "display_name": "MESTRA",
   "language": "python",
   "name": "python3"
  },
  "language_info": {
   "codemirror_mode": {
    "name": "ipython",
    "version": 3
   },
   "file_extension": ".py",
   "mimetype": "text/x-python",
   "name": "python",
   "nbconvert_exporter": "python",
   "pygments_lexer": "ipython3",
   "version": "3.11.8"
  }
 },
 "nbformat": 4,
 "nbformat_minor": 2
}
