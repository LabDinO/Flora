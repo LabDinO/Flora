{
 "cells": [
  {
   "cell_type": "code",
   "execution_count": 49,
   "metadata": {},
   "outputs": [],
   "source": [
    "#Importando os arquivos\n",
    "import numpy as np\n",
    "import os\n",
    "import csv\n",
    "import shutil"
   ]
  },
  {
   "cell_type": "code",
   "execution_count": 50,
   "metadata": {},
   "outputs": [],
   "source": [
    "df =  pd.read_csv('C:/Users/flora/OneDrive/Documentos/MESTRADO_UFSC/rotinas/python/espectrogramas/labels_DeepVoice/annotation_val_clicks.csv')"
   ]
  },
  {
   "cell_type": "code",
   "execution_count": 54,
   "metadata": {},
   "outputs": [],
   "source": [
    "#Dando um distinct nos filenames\n",
    "files = df['filename'].unique()\n",
    "new_df = pd.DataFrame({'file':files,'exists':''})\n",
    "# Diretório onde os arquivos estão localizados\n",
    "dir = 'F:\\\\audio_files'\n",
    "dir_destino = 'D:\\\\AUDIOS\\\\val'"
   ]
  },
  {
   "cell_type": "code",
   "execution_count": 55,
   "metadata": {},
   "outputs": [
    {
     "name": "stdout",
     "output_type": "stream",
     "text": [
      "                                file exists\n",
      "0         PAM_MF_20190204_064000_000      Y\n",
      "1         PAM_MF_20190205_040000_000      Y\n",
      "2  LPS1142017_MF_20180727_044702_954      Y\n",
      "3         PAM_MF_20190205_003000_000      Y\n",
      "4  LPS1142017_MF_20180723_085055_579      Y\n",
      "5         PAM_MF_20190204_070000_000      Y\n",
      "6         PAM_MF_20190130_221000_000      Y\n",
      "7         PAM_MF_20190130_220942_542      Y\n"
     ]
    }
   ],
   "source": [
    "for i in range (len(files)):\n",
    "    # Adiciona a terminação .wav ao nome do arquivo\n",
    "    file= new_df['file'][i] + '.wav'\n",
    "    # Caminho completo do arquivo\n",
    "    caminho_completo_origem = os.path.join(dir, file)\n",
    "    caminho_completo_destino = os.path.join(dir_destino, file)\n",
    "        # Verifica se o arquivo existe na pasta de origem\n",
    "    if os.path.exists(caminho_completo_origem):\n",
    "        # Copia o arquivo para a pasta de destino\n",
    "        shutil.copy2(caminho_completo_origem, caminho_completo_destino)\n",
    "        \n",
    "        # Atualiza a coluna 'exists' no DataFrame para 'Y'\n",
    "        new_df.at[i, 'exists'] = 'Y'\n",
    "    else:\n",
    "        # Atualiza a coluna 'exists' no DataFrame para 'N'\n",
    "        new_df.at[i, 'exists'] = 'N'\n",
    "\n",
    "# Imprime o DataFrame atualizado\n",
    "print(new_df)\n",
    "    #Ver se o file[1] existe na pasta da andrea\n",
    "    #se existir copiar o arquivo e passar para D:\\AUDIOS\\test\n",
    "    #criar uma coluna chamada existe, se o arquivo existir colocar Y se não colocar N"
   ]
  }
 ],
 "metadata": {
  "kernelspec": {
   "display_name": "Python 3",
   "language": "python",
   "name": "python3"
  },
  "language_info": {
   "codemirror_mode": {
    "name": "ipython",
    "version": 3
   },
   "file_extension": ".py",
   "mimetype": "text/x-python",
   "name": "python",
   "nbconvert_exporter": "python",
   "pygments_lexer": "ipython3",
   "version": "3.6.4"
  }
 },
 "nbformat": 4,
 "nbformat_minor": 2
}
