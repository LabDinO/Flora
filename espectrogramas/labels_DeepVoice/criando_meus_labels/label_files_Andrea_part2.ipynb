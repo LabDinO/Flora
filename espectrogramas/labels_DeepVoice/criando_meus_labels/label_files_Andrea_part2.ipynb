{
 "cells": [
  {
   "cell_type": "code",
   "execution_count": null,
   "metadata": {},
   "outputs": [],
   "source": [
    "import pandas as pd\n",
    "import numpy as np\n",
    "import csv\n",
    "\n",
    "\n",
    "#Reading my file\n",
    "df1 = pd.read_csv('D:/LABELS_ANDREA_AUDIOS/selections/annotation_test_all_FS.csv')\n",
    "#Filtering only whistles\n",
    "whistle = flora.loc[(flora['label'] == 2)]\n",
    "\n",
    "#Reading deepvoice file\n",
    "df2 = pd.read_csv('D:/LABELS_ANDREA_AUDIOS/annotation_test_clicks.csv')"
   ]
  },
  {
   "cell_type": "code",
   "execution_count": null,
   "metadata": {},
   "outputs": [],
   "source": []
  },
  {
   "cell_type": "code",
   "execution_count": null,
   "metadata": {},
   "outputs": [],
   "source": [
    "#Vamos criar uma chave para verificar se os arquivos que eu criei são compativeis com os arquivos gerados pelo deepvoice\n",
    "#Pra ver se eles colocaram todos os assobios mesmo\n"
   ]
  },
  {
   "cell_type": "code",
   "execution_count": 14,
   "metadata": {},
   "outputs": [
    {
     "name": "stderr",
     "output_type": "stream",
     "text": [
      "C:\\Users\\flora\\AppData\\Local\\Temp\\ipykernel_21304\\1781663924.py:4: SettingWithCopyWarning: \n",
      "A value is trying to be set on a copy of a slice from a DataFrame.\n",
      "Try using .loc[row_indexer,col_indexer] = value instead\n",
      "\n",
      "See the caveats in the documentation: https://pandas.pydata.org/pandas-docs/stable/user_guide/indexing.html#returning-a-view-versus-a-copy\n",
      "  whistle['chave'] = whistle['channel'].astype(str) + '_' + whistle['begin_time'].astype(str) + '_' + whistle['end_time'].astype(str) + '_' + whistle['filename'] + '_' + whistle['call_length'].astype(str)\n"
     ]
    }
   ],
   "source": [
    "#Criando chave de concatenação em df2 e em whistle\n",
    "#chave vai conter: 'channel', 'begin_time', 'end_time', 'filename', 'call_length'\n",
    "# Cria a coluna 'chave' em df1\n",
    "whistle['chave'] = whistle['channel'].astype(str) + '_' + whistle['begin_time'].astype(str) + '_' + whistle['end_time'].astype(str) + '_' + whistle['filename'] + '_' + whistle['call_length'].astype(str)\n",
    "\n",
    "# Cria a coluna 'chave' em df2\n",
    "df2['chave'] = df2['channel'].astype(str) + '_' + df2['begin_time'].astype(str) + '_' + df2['end_time'].astype(str) + '_' + df2['filename'] + '_' + df2['call_length'].astype(str)\n"
   ]
  },
  {
   "cell_type": "code",
   "execution_count": 16,
   "metadata": {},
   "outputs": [],
   "source": [
    "#Agora vamos achar onde em df2, temos chaves compatíveis com whistle\n",
    "# Verifica onde as chaves são compatíveis\n",
    "df2['mask_chave'] = df2['chave'].isin(whistle['chave'])"
   ]
  },
  {
   "cell_type": "code",
   "execution_count": 17,
   "metadata": {},
   "outputs": [
    {
     "data": {
      "text/plain": [
       "mask_chave\n",
       "False    850\n",
       "True      68\n",
       "Name: count, dtype: int64"
      ]
     },
     "execution_count": 17,
     "metadata": {},
     "output_type": "execute_result"
    }
   ],
   "source": [
    "#verificado contagem\n",
    "df2['mask_chave'].value_counts()"
   ]
  },
  {
   "cell_type": "code",
   "execution_count": null,
   "metadata": {},
   "outputs": [],
   "source": [
    "#Vemos que eles não inseriram todos os assobios"
   ]
  },
  {
   "cell_type": "code",
   "execution_count": 18,
   "metadata": {},
   "outputs": [
    {
     "data": {
      "text/plain": [
       "(119, 7)"
      ]
     },
     "execution_count": 18,
     "metadata": {},
     "output_type": "execute_result"
    }
   ],
   "source": [
    "whistle.shape"
   ]
  }
 ],
 "metadata": {
  "kernelspec": {
   "display_name": "Python 3",
   "language": "python",
   "name": "python3"
  },
  "language_info": {
   "codemirror_mode": {
    "name": "ipython",
    "version": 3
   },
   "file_extension": ".py",
   "mimetype": "text/x-python",
   "name": "python",
   "nbconvert_exporter": "python",
   "pygments_lexer": "ipython3",
   "version": "3.11.7"
  }
 },
 "nbformat": 4,
 "nbformat_minor": 2
}
