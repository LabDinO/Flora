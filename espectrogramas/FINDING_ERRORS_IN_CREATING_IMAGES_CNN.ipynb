{
 "cells": [
  {
   "cell_type": "markdown",
   "metadata": {},
   "source": [
    "## DESCOBRINDO O ERRO"
   ]
  },
  {
   "cell_type": "code",
   "execution_count": 1,
   "metadata": {},
   "outputs": [
    {
     "name": "stderr",
     "output_type": "stream",
     "text": [
      "C:\\Users\\flora\\AppData\\Local\\Packages\\PythonSoftwareFoundation.Python.3.11_qbz5n2kfra8p0\\LocalCache\\local-packages\\Python311\\site-packages\\pydub\\utils.py:170: RuntimeWarning: Couldn't find ffmpeg or avconv - defaulting to ffmpeg, but may not work\n",
      "  warn(\"Couldn't find ffmpeg or avconv - defaulting to ffmpeg, but may not work\", RuntimeWarning)\n"
     ]
    }
   ],
   "source": [
    "#Packages\n",
    "import wave\n",
    "import numpy as np\n",
    "import os\n",
    "import librosa\n",
    "import librosa.display\n",
    "from pydub import AudioSegment\n",
    "import IPython.display as ipd\n",
    "from IPython.display import Audio, display\n",
    "import numpy as np\n",
    "import matplotlib.pyplot as plt\n",
    "import pandas as pd\n",
    "import matplotlib.pylab as plt\n",
    "import seaborn as sns\n",
    "import csv\n",
    "import math\n",
    "\n",
    "\n",
    "\n"
   ]
  },
  {
   "cell_type": "code",
   "execution_count": 15,
   "metadata": {},
   "outputs": [],
   "source": [
    "#Spectrogram Function ONLY IMAGE NO WHITE LAYOUT\n",
    "def plot_spectrogram(Y, sr, hop_length, y_axis=\"linear\", title=\"Spectrogram\"):\n",
    "    #(400/80, 320/80), dpi=80  TESTE COM DPI PARA DELIMITAÇÃO DE PIXELS\n",
    "    dpi = 100  # You can adjust this value based on your needs\n",
    "    width, height = 224 / dpi, 224 / dpi\n",
    "    plt.figure(figsize=(width, height), dpi=dpi)\n",
    "    plt.axis('off')  # Desative os eixos\n",
    "    plt.margins(0, 0) #define margens pra zero\n",
    "    plt.ylim(10000, 48000) #Limiiting the low frequency\n",
    "\n",
    "    # Set the desired frequency range (Deep Convolutional Neural Networks for Detecting Dolphin Echolocation Clicks)\n",
    "    fmin = 3000  # 3kHz\n",
    "    fmax = 144000  # 144kH\n",
    "    librosa.display.specshow(Y,\n",
    "                             sr=sr,\n",
    "                             hop_length=hop_length,\n",
    "                             x_axis=\"time\",\n",
    "                             y_axis=y_axis,\n",
    "                             cmap='gray',\n",
    "                             fmin=fmin,\n",
    "                             fmax=fmax\n",
    "                             )\n",
    "\n",
    "    plt.clim(-60, 10) #Definido por bibliografia (Deep Convolutional Neural Networks for Detecting Dolphin Echolocation Clicks)\n",
    "    plt.tight_layout()\n",
    "\n",
    "\n",
    "#Audio parameters\n",
    "\n",
    "FRAME_SIZE = 1024 #samples\n",
    "HOP_SIZE = 512 #samples\n",
    "sr=96000\n",
    "\n",
    "\n"
   ]
  },
  {
   "cell_type": "code",
   "execution_count": 78,
   "metadata": {},
   "outputs": [],
   "source": [
    "#CREATING NEGATIVE IMAGES -> negative\n",
    "def negative_images(file,file_raw, audio_data,sample_rate):\n",
    "     \n",
    "    for x in range (4): #Loop que vai passar por cada um dos 4 canais\n",
    "        spectrogram = audio_data[x] # loc no canal do audio file\n",
    "        ch = file.loc[(file['label'] == 0)]   #Dando um loc no csv que tem as infos de negativo\n",
    "        #Agora vamos começar a recortar\n",
    "        df = ch.loc[(file['channel'] == x +1)] #Pegando cada channel ( é x+1 porque o channel 1 tem indice 0)\n",
    "        for i in  range (len(df)):  #indo linha por linha em um canal x onde o label é zero (len(df)) -> qtd linhas do canal x+1 que o label é zero\n",
    "                if df['call_length'].iloc[i] < 2: #Se esse intervalo sem cliques for menor que dois segundo, não analisa essa sessão e vai pra proxima linha\n",
    "                    i = i+1\n",
    "                t_start = df['begin_time'].iloc[i] # begin time i\n",
    "                t_stop = df['end_time'].iloc[i] # end time i\n",
    "                t_start = math.ceil(t_start)  # arredonda t_start pra cima (EVITA PEGAR O RESTO DO CLICK ANTERIOR)\n",
    "                #Agora temos que ver se o tempo entre t_start e t_stop é par\n",
    "                t = t_stop - t_start\n",
    "                n = int(t // 2)  #n é o número de espectrogramas\n",
    "                if n == 0: #Para ajeitar calls menores que 2 segundos\n",
    "                    n = 1    \n",
    "                for j in range (n):\n",
    "                    t_stop = t_start + 2  #atualiza t_stop pra pegar o espectrograma de tamanho 2 segundos\n",
    "                    audio_clip = audio_data[x][int(t_start * sr):int(t_stop * sr)]\n",
    "                    #Agora a gente pega e recorta os espectrogramas \n",
    "                    S_ch_raw1 = librosa.stft(audio_clip, n_fft=FRAME_SIZE, hop_length=HOP_SIZE)\n",
    "                    Y_scale = np.abs(S_ch_raw1) ** 2\n",
    "                    Y_log_scale1 = librosa.power_to_db(Y_scale)\n",
    "                    plot_spectrogram(Y_log_scale1 , sr, HOP_SIZE,y_axis=\"linear\", title=\"No Dolphins\")\n",
    "                    \n",
    "                    t_start = t_start + 2  #vai passando pro proximo espectrograma até dar n\n",
    "\n",
    "                    output_folder = 'E:/just_testing_errors/negative'\n",
    "                    \n",
    "                    # Salve a figura no formato desejado (por exemplo, PNG)\n",
    "                    output_path = os.path.join(output_folder, f'chan_{x+1}_line_{i+1}_spec_{j+1}_{ch[\"filename\"].iloc[i]}_{df[\"begin_time\"].iloc[i]}_{df[\"end_time\"].iloc[i]}.png')\n",
    "                    plt.savefig(output_path,bbox_inches='tight', pad_inches=0)\n",
    "                    plt.close()\n"
   ]
  },
  {
   "cell_type": "code",
   "execution_count": 5,
   "metadata": {},
   "outputs": [],
   "source": [
    "#CREATING IMAGES OF CLICKs -> positives\n",
    "\n",
    "def click_images(file,file_raw,audio_data,sample_rate):\n",
    "     \n",
    "    for x in range (4): #Loop que vai passar por cada um dos três canais\n",
    "        spectrogram = audio_data[x] # loc no canal do audio file\n",
    "        ch = file.loc[(file['label'] == 1)] #pegando apenas os que tem cliques\n",
    "        df = ch.loc[(ch['channel'] == x +1)]  #Vendo o canal correspondentes no csv \n",
    "        for i in  range (len(df)):  #LOOP PASSA LINHA A LINHA DE CADA CANAL\n",
    "                t_start = df['begin_time'].iloc[i] # begin time i\n",
    "                t_stop = df['end_time'].iloc[i] # end time i\n",
    "                #t_start = math.floor(t_start) \n",
    "                t_stop = math.ceil(t_stop)#arredonda t_stop pra cima com o objetivo de fechar mais espectrogramas sem perder infos\n",
    "                #Agora temos que ver se o tempo entre t_start e t_stop é par\n",
    "                t = t_stop - t_start\n",
    "                n = int(t // 2)  #n é o número de espectrogramas\n",
    "\n",
    "                if n == 0: #Para ajeitar calls menores que 2 segundos\n",
    "                    n = 1\n",
    "\n",
    "                for j in range (n):\n",
    "                    t_stop = t_start + 2  #atualiza t_stop pra pegar o espectrograma de tamanho 2 segundos\n",
    "                    audio_clip = audio_data[x][int(t_start * sr):int(t_stop * sr)]\n",
    "                    #Agora a gente pega e recorta os espectrogramas \n",
    "                    S_ch_raw1 = librosa.stft(audio_clip, n_fft=FRAME_SIZE, hop_length=HOP_SIZE)\n",
    "                    Y_scale = np.abs(S_ch_raw1) ** 2\n",
    "                    Y_log_scale1 = librosa.power_to_db(Y_scale)\n",
    "                    plot_spectrogram(Y_log_scale1 , sr, HOP_SIZE,y_axis=\"linear\", title=\"Yes Dolphins\")\n",
    "                    \n",
    "                    t_start = t_start + 2  #vai passando pro proximo espectrograma até dar n, porque n é a quantidade de espectrogramas que tem no intervalo anotado no csv\n",
    "\n",
    "                    output_folder = 'E:/just_testing_errors/positive'\n",
    "                    # Salve a figura no formato desejado (por exemplo, PNG)\n",
    "                    output_path = os.path.join(output_folder, f'chan_{x+1}_line_{i+1}_spec_{j+1}_{ch[\"filename\"].iloc[i]}_{df[\"begin_time\"].iloc[i]}_{df[\"end_time\"].iloc[i]}.png')\n",
    "                    plt.savefig(output_path,bbox_inches='tight', pad_inches=0)\n",
    "                    plt.close()"
   ]
  },
  {
   "cell_type": "code",
   "execution_count": 7,
   "metadata": {},
   "outputs": [],
   "source": [
    "#####################\n",
    "test_file =  pd.read_csv('C:/Users/flora/OneDrive/Documentos/MESTRADO_UFSC/rotinas/python/labels_DeepVoice/annotation_train_clicks.csv')\n",
    "\n"
   ]
  },
  {
   "cell_type": "code",
   "execution_count": 8,
   "metadata": {},
   "outputs": [],
   "source": [
    "#Lists all the audio files names with no repeat\n",
    "audio_names = test_file['filename'].unique()"
   ]
  },
  {
   "cell_type": "code",
   "execution_count": 16,
   "metadata": {},
   "outputs": [],
   "source": [
    "#the audio file\n",
    "#file = test_file.loc[(test_file['filename'] == audio_names[k])]\n",
    "#file_raw = f'D:/AUDIOS/train/{audio_names[k]}.wav'\n",
    "file = test_file.loc[(test_file['filename'] == 'LPS1142017_MF_20171003_050000_000')]\n",
    "file_raw = f'D:/AUDIOS/train/LPS1142017_MF_20171003_050000_000.wav'\n",
    "audio_data, sample_rate = librosa.load(file_raw, sr=None, mono=False)\n",
    "#negative_images(file, file_raw, audio_data, sample_rate)\n",
    "click_images(file,file_raw,audio_data,sample_rate)\n"
   ]
  },
  {
   "cell_type": "markdown",
   "metadata": {},
   "source": [
    "## SESSÃO DE TESTES POSITIVO ##\n",
    "## O PROBLEMA É NO ARREDANDAMENTO DO T_START->"
   ]
  },
  {
   "cell_type": "code",
   "execution_count": 113,
   "metadata": {},
   "outputs": [],
   "source": [
    "x = 3\n",
    "i = 3\n",
    "j = 0\n",
    "#for x in range (4): #Loop que vai passar por cada um dos três canais\n",
    "spectrogram = audio_data[x] # loc no canal do audio file\n",
    "ch = file.loc[(file['label'] == 1)] #pegando apenas os que tem cliques\n",
    "df = ch.loc[(ch['channel'] == x +1)]  #Vendo o canal correspondentes no csv \n",
    "        #for i in  range (len(df)):  #LOOP PASSA LINHA A LINHA DE CADA CANAL\n",
    "t_start = df['begin_time'].iloc[i] # begin time i\n",
    "t_stop = df['end_time'].iloc[i] # end time i\n",
    "#t_start = math.floor(t_start) #arredonda t_start pra baixo\n",
    "#Agora temos que ver se o tempo entre t_start e t_stop é par\n",
    "t = t_stop - t_start\n",
    "n = int(t // 2)  #n é o número de espectrogramas\n",
    "\n",
    "if n == 0: #Para ajeitar calls menores que 2 segundos\n",
    "    n = 1\n",
    "#for j in range (n):\n",
    "t_stop = t_start + 2  #atualiza t_stop pra pegar o espectrograma de tamanho 2 segundos\n",
    "    #Agora a gente pega e recorta os espectrogramas \n",
    "S_ch_raw1 = librosa.stft(audio_clip, n_fft=FRAME_SIZE, hop_length=HOP_SIZE)\n",
    "Y_scale = np.abs(S_ch_raw1) ** 2\n",
    "Y_log_scale1 = librosa.power_to_db(Y_scale)\n",
    "plot_spectrogram(Y_log_scale1 , sr, HOP_SIZE,y_axis=\"linear\", title=\"Yes Dolphins\")\n",
    "    \n",
    "t_start = t_start + 2  #vai passando pro proximo espectrograma até dar n, porque n é a quantidade de espectrogramas que tem no intervalo anotado no cs\n",
    "output_folder = 'E:/just_testing_errors/positive'\n",
    "# Salve a figura no formato desejado (por exemplo, PNG)\n",
    "output_path = os.path.join(output_folder, f'chan_{x+1}_line_{i+1}_spec_{j+1}_{ch[\"filename\"].iloc[i]}_{df[\"begin_time\"].iloc[i]}_{df[\"end_time\"].iloc[i]}.png')\n",
    "plt.savefig(output_path,bbox_inches='tight', pad_inches=0)\n",
    "plt.close()"
   ]
  },
  {
   "cell_type": "code",
   "execution_count": 114,
   "metadata": {},
   "outputs": [
    {
     "data": {
      "text/plain": [
       "59.106589855"
      ]
     },
     "execution_count": 114,
     "metadata": {},
     "output_type": "execute_result"
    }
   ],
   "source": [
    "df['end_time'].iloc[i]"
   ]
  },
  {
   "cell_type": "code",
   "execution_count": 103,
   "metadata": {},
   "outputs": [
    {
     "data": {
      "text/plain": [
       "90.181660798"
      ]
     },
     "execution_count": 103,
     "metadata": {},
     "output_type": "execute_result"
    }
   ],
   "source": [
    "df['begin_time'].iloc[i]"
   ]
  },
  {
   "cell_type": "code",
   "execution_count": 104,
   "metadata": {},
   "outputs": [
    {
     "data": {
      "text/plain": [
       "90"
      ]
     },
     "execution_count": 104,
     "metadata": {},
     "output_type": "execute_result"
    }
   ],
   "source": [
    "math.floor(df['begin_time'].iloc[i])"
   ]
  },
  {
   "cell_type": "code",
   "execution_count": 105,
   "metadata": {},
   "outputs": [
    {
     "data": {
      "text/plain": [
       "92"
      ]
     },
     "execution_count": 105,
     "metadata": {},
     "output_type": "execute_result"
    }
   ],
   "source": [
    "t_start"
   ]
  },
  {
   "cell_type": "code",
   "execution_count": 99,
   "metadata": {},
   "outputs": [
    {
     "name": "stdout",
     "output_type": "stream",
     "text": [
      "0\n"
     ]
    }
   ],
   "source": [
    "t = t_stop - t_start\n",
    "print(t)"
   ]
  },
  {
   "cell_type": "code",
   "execution_count": 106,
   "metadata": {},
   "outputs": [
    {
     "name": "stdout",
     "output_type": "stream",
     "text": [
      "2\n"
     ]
    }
   ],
   "source": [
    "n = int(t // 2)\n",
    "print(n)"
   ]
  },
  {
   "cell_type": "code",
   "execution_count": 97,
   "metadata": {},
   "outputs": [
    {
     "data": {
      "text/plain": [
       "92"
      ]
     },
     "execution_count": 97,
     "metadata": {},
     "output_type": "execute_result"
    }
   ],
   "source": [
    "t_stop"
   ]
  },
  {
   "cell_type": "markdown",
   "metadata": {},
   "source": [
    "## SESSÃO DE TESTES NEGATIVO ##\n",
    "## O PROBLEMA ESTA NO 'ch' -> EU DOU UM LOC NELE MAS NÃO USO MAIS ELE\n",
    "## O PORBLEMA DA 'call_lenght' -> O PROBLEMA É O INTERVALO NEGATIVO DE TEMPO ENTRE DOIS CLIQUES, ESSE INTERVALO É MENOR QUE DOIS SEGUNDOS, ENTÃO NÃO VAI FUNCIONAR\n",
    "## O PROBREMA DO PRIMEIRO ESPECTROGRAMA DE POIS DE UM CLICK-> ELE PEGA O RESQUICIO DO INTERVALO DO CLIK ANTERIOR (FINALZINHO DE UM CLICK)"
   ]
  },
  {
   "cell_type": "code",
   "execution_count": 75,
   "metadata": {},
   "outputs": [],
   "source": [
    "# for x in range(4):  # Loop que vai passar por cada um dos 4 canais\n",
    "x = 0\n",
    "i = 1\n",
    "j = 0\n",
    "spectrogram = audio_data[x]  # loc no canal do audio file\n",
    "ch = file.loc[(file['label'] == 0)]  # Dando um loc no CSV que tem as infos\n",
    "\n",
    "# Agora vamos começar a recortar\n",
    "df = ch.loc[(file['channel'] == x + 1)]\n",
    "if df['call_length'].iloc[i] < 2: #Se esse intervalo sem cliques for menor que dois segundo, não analiza essa sessão e vai pra proxima linha\n",
    "    i = i+1\n",
    "# for i in range(len(df)):  # indo linha por linha em um canal x onde o label é zero\n",
    "t_start = df['begin_time'].iloc[i]  # begin time i\n",
    "t_stop = df['end_time'].iloc[i]  # end time i\n",
    "t_start = math.ceil(t_start)  # arredonda t_start pra cima (EVITA PEGAR O RESTO DO CLICK ANTERIOR)\n",
    "# Agora temos que ver se o tempo entre t_start e t_stop é par\n",
    "t = t_stop - t_start #Ve quanto tem de intervalo para ser dividido em espectrogramas\n",
    "n = int(t // 2)  # n é o número de espectrogramas\n",
    "if n == 0:  # Para ajeitar calls menores que 2 segundos\n",
    "    n = 1\n",
    "\n",
    "# for j in range(n): #Loop para cada espectrograma\n",
    "t_stop = t_start + 2  # atualiza t_stop pra pegar o espectrograma de tamanho 2 segundos\n",
    "audio_clip = audio_data[x][int(t_start * sr):int(t_stop * sr)]\n",
    "\n",
    "# Agora a gente pega e recorta os espectrogramas\n",
    "S_ch_raw1 = librosa.stft(audio_clip, n_fft=FRAME_SIZE, hop_length=HOP_SIZE)\n",
    "Y_scale = np.abs(S_ch_raw1) ** 2\n",
    "Y_log_scale1 = librosa.power_to_db(Y_scale)\n",
    "plot_spectrogram(Y_log_scale1, sr, HOP_SIZE, y_axis=\"linear\", title=\"No Dolphins\")\n",
    "\n",
    "output_folder = 'E:/just_testing_errors/negative'\n",
    "\n",
    "# Salve a figura no formato desejado (por exemplo, PNG)\n",
    "output_path = os.path.join(output_folder, f'chan_{x+1}_line_{i+1}_spec_{j+1}_{ch[\"filename\"].iloc[i]}_{df[\"begin_time\"].iloc[i]}_{df[\"end_time\"].iloc[i]}.png')\n",
    "plt.savefig(output_path, bbox_inches='tight', pad_inches=0)\n",
    "plt.close()\n"
   ]
  },
  {
   "cell_type": "code",
   "execution_count": 66,
   "metadata": {},
   "outputs": [
    {
     "data": {
      "text/plain": [
       "8"
      ]
     },
     "execution_count": 66,
     "metadata": {},
     "output_type": "execute_result"
    }
   ],
   "source": [
    "df\n",
    "len(df) #-> 8"
   ]
  },
  {
   "cell_type": "code",
   "execution_count": 69,
   "metadata": {},
   "outputs": [
    {
     "data": {
      "text/plain": [
       "23"
      ]
     },
     "execution_count": 69,
     "metadata": {},
     "output_type": "execute_result"
    }
   ],
   "source": [
    "t_start"
   ]
  },
  {
   "cell_type": "code",
   "execution_count": 65,
   "metadata": {},
   "outputs": [
    {
     "data": {
      "text/plain": [
       "25"
      ]
     },
     "execution_count": 65,
     "metadata": {},
     "output_type": "execute_result"
    }
   ],
   "source": [
    "t_stop"
   ]
  },
  {
   "cell_type": "code",
   "execution_count": 68,
   "metadata": {},
   "outputs": [
    {
     "data": {
      "text/plain": [
       "57.90188484"
      ]
     },
     "execution_count": 68,
     "metadata": {},
     "output_type": "execute_result"
    }
   ],
   "source": [
    "df['end_time'].iloc[i]"
   ]
  },
  {
   "cell_type": "code",
   "execution_count": 54,
   "metadata": {},
   "outputs": [
    {
     "data": {
      "text/plain": [
       "22.365088387"
      ]
     },
     "execution_count": 54,
     "metadata": {},
     "output_type": "execute_result"
    }
   ],
   "source": [
    "df['begin_time'].iloc[i]"
   ]
  },
  {
   "cell_type": "code",
   "execution_count": 64,
   "metadata": {},
   "outputs": [
    {
     "data": {
      "text/plain": [
       "35.536796453"
      ]
     },
     "execution_count": 64,
     "metadata": {},
     "output_type": "execute_result"
    }
   ],
   "source": [
    "t"
   ]
  },
  {
   "cell_type": "code",
   "execution_count": 63,
   "metadata": {},
   "outputs": [
    {
     "data": {
      "text/plain": [
       "17"
      ]
     },
     "execution_count": 63,
     "metadata": {},
     "output_type": "execute_result"
    }
   ],
   "source": [
    "n"
   ]
  },
  {
   "cell_type": "code",
   "execution_count": 71,
   "metadata": {},
   "outputs": [
    {
     "name": "stdout",
     "output_type": "stream",
     "text": [
      "34.90188484\n"
     ]
    }
   ],
   "source": [
    "t = df['end_time'].iloc[i] - t_start\n",
    "print(t)"
   ]
  },
  {
   "cell_type": "code",
   "execution_count": 72,
   "metadata": {},
   "outputs": [
    {
     "name": "stdout",
     "output_type": "stream",
     "text": [
      "17\n"
     ]
    }
   ],
   "source": [
    "n = int(t // 2)\n",
    "print(n)"
   ]
  }
 ],
 "metadata": {
  "kernelspec": {
   "display_name": "Python 3",
   "language": "python",
   "name": "python3"
  },
  "language_info": {
   "codemirror_mode": {
    "name": "ipython",
    "version": 3
   },
   "file_extension": ".py",
   "mimetype": "text/x-python",
   "name": "python",
   "nbconvert_exporter": "python",
   "pygments_lexer": "ipython3",
   "version": "3.11.8"
  }
 },
 "nbformat": 4,
 "nbformat_minor": 2
}
